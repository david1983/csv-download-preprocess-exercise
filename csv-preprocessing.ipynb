{
 "cells": [
  {
   "cell_type": "code",
   "execution_count": null,
   "metadata": {
    "collapsed": true
   },
   "outputs": [],
   "source": [
    "Introduction\n",
    "Your task is to download, pre-process and display the free public Lending Club dataset which contains anonymised details of account activity from\n",
    "LendingClub loan activity. You should use python pandas for the pre-processing and JavaScript to display the results.\n",
    "\n",
    "Data\n",
    "Lending Club Loan Data file: https://www.lendingclub.com/info/download-data.action\n",
    "Pre-process\n",
    "You should apply the following transforms to the data:\n",
    "1. Read the csv into a Python pandas dataframe\n",
    "2. Select just the grade, home_ownership, funded_amnt and funded_amnt_inv fields\n",
    "3. Add a user_id column, which should be a sequence from 0 to n\n",
    "4. Fill in the missing grade values with the most frequent value in that column\n",
    "5. Replace missing home_ownership values with the median value for that column\n",
    "6. Normalise the funded_amnt data so that it is scaled from 1-100\n",
    "7. Optional, if you have time: Randomly permute the rows in the funded_amnt_inv column and interpolate the missing values (ideally using a linear\n",
    "interpolation)\n",
    "8. Write the data out in a format that is consumable by JavaScript\n"
   ]
  },
  {
   "cell_type": "code",
   "execution_count": 4,
   "metadata": {},
   "outputs": [
    {
     "data": {
      "text/html": [
       "<div>\n",
       "<style>\n",
       "    .dataframe thead tr:only-child th {\n",
       "        text-align: right;\n",
       "    }\n",
       "\n",
       "    .dataframe thead th {\n",
       "        text-align: left;\n",
       "    }\n",
       "\n",
       "    .dataframe tbody tr th {\n",
       "        vertical-align: top;\n",
       "    }\n",
       "</style>\n",
       "<table border=\"1\" class=\"dataframe\">\n",
       "  <thead>\n",
       "    <tr style=\"text-align: right;\">\n",
       "      <th></th>\n",
       "      <th>funded_amnt</th>\n",
       "      <th>funded_amnt_inv</th>\n",
       "      <th>grade</th>\n",
       "      <th>home_ownership</th>\n",
       "    </tr>\n",
       "  </thead>\n",
       "  <tbody>\n",
       "    <tr>\n",
       "      <th>0</th>\n",
       "      <td>5000.0</td>\n",
       "      <td>4975.0</td>\n",
       "      <td>B</td>\n",
       "      <td>RENT</td>\n",
       "    </tr>\n",
       "    <tr>\n",
       "      <th>1</th>\n",
       "      <td>2500.0</td>\n",
       "      <td>2500.0</td>\n",
       "      <td>C</td>\n",
       "      <td>RENT</td>\n",
       "    </tr>\n",
       "    <tr>\n",
       "      <th>2</th>\n",
       "      <td>2400.0</td>\n",
       "      <td>2400.0</td>\n",
       "      <td>C</td>\n",
       "      <td>RENT</td>\n",
       "    </tr>\n",
       "    <tr>\n",
       "      <th>3</th>\n",
       "      <td>10000.0</td>\n",
       "      <td>10000.0</td>\n",
       "      <td>C</td>\n",
       "      <td>RENT</td>\n",
       "    </tr>\n",
       "    <tr>\n",
       "      <th>4</th>\n",
       "      <td>3000.0</td>\n",
       "      <td>3000.0</td>\n",
       "      <td>B</td>\n",
       "      <td>RENT</td>\n",
       "    </tr>\n",
       "  </tbody>\n",
       "</table>\n",
       "</div>"
      ],
      "text/plain": [
       "   funded_amnt  funded_amnt_inv grade home_ownership\n",
       "0       5000.0           4975.0     B           RENT\n",
       "1       2500.0           2500.0     C           RENT\n",
       "2       2400.0           2400.0     C           RENT\n",
       "3      10000.0          10000.0     C           RENT\n",
       "4       3000.0           3000.0     B           RENT"
      ]
     },
     "execution_count": 4,
     "metadata": {},
     "output_type": "execute_result"
    }
   ],
   "source": [
    "import pandas as pd\n",
    "\n",
    "# 1. Read the csv into a Python pandas dataframe\n",
    "# 2. Select just the grade, home_ownership, funded_amnt and funded_amnt_inv fields\n",
    "\n",
    "data = pd.read_csv(\"LoanStats3a.csv\", skiprows=[0],usecols=[\"grade\", \"home_ownership\", \"funded_amnt\", \"funded_amnt_inv\"])\n",
    "data.head()\n"
   ]
  },
  {
   "cell_type": "code",
   "execution_count": 5,
   "metadata": {},
   "outputs": [
    {
     "data": {
      "text/html": [
       "<div>\n",
       "<style>\n",
       "    .dataframe thead tr:only-child th {\n",
       "        text-align: right;\n",
       "    }\n",
       "\n",
       "    .dataframe thead th {\n",
       "        text-align: left;\n",
       "    }\n",
       "\n",
       "    .dataframe tbody tr th {\n",
       "        vertical-align: top;\n",
       "    }\n",
       "</style>\n",
       "<table border=\"1\" class=\"dataframe\">\n",
       "  <thead>\n",
       "    <tr style=\"text-align: right;\">\n",
       "      <th></th>\n",
       "      <th>user_id</th>\n",
       "      <th>funded_amnt</th>\n",
       "      <th>funded_amnt_inv</th>\n",
       "      <th>grade</th>\n",
       "      <th>home_ownership</th>\n",
       "    </tr>\n",
       "  </thead>\n",
       "  <tbody>\n",
       "    <tr>\n",
       "      <th>0</th>\n",
       "      <td>0</td>\n",
       "      <td>5000.0</td>\n",
       "      <td>4975.0</td>\n",
       "      <td>B</td>\n",
       "      <td>RENT</td>\n",
       "    </tr>\n",
       "    <tr>\n",
       "      <th>1</th>\n",
       "      <td>1</td>\n",
       "      <td>2500.0</td>\n",
       "      <td>2500.0</td>\n",
       "      <td>C</td>\n",
       "      <td>RENT</td>\n",
       "    </tr>\n",
       "    <tr>\n",
       "      <th>2</th>\n",
       "      <td>2</td>\n",
       "      <td>2400.0</td>\n",
       "      <td>2400.0</td>\n",
       "      <td>C</td>\n",
       "      <td>RENT</td>\n",
       "    </tr>\n",
       "    <tr>\n",
       "      <th>3</th>\n",
       "      <td>3</td>\n",
       "      <td>10000.0</td>\n",
       "      <td>10000.0</td>\n",
       "      <td>C</td>\n",
       "      <td>RENT</td>\n",
       "    </tr>\n",
       "    <tr>\n",
       "      <th>4</th>\n",
       "      <td>4</td>\n",
       "      <td>3000.0</td>\n",
       "      <td>3000.0</td>\n",
       "      <td>B</td>\n",
       "      <td>RENT</td>\n",
       "    </tr>\n",
       "  </tbody>\n",
       "</table>\n",
       "</div>"
      ],
      "text/plain": [
       "   user_id  funded_amnt  funded_amnt_inv grade home_ownership\n",
       "0        0       5000.0           4975.0     B           RENT\n",
       "1        1       2500.0           2500.0     C           RENT\n",
       "2        2       2400.0           2400.0     C           RENT\n",
       "3        3      10000.0          10000.0     C           RENT\n",
       "4        4       3000.0           3000.0     B           RENT"
      ]
     },
     "execution_count": 5,
     "metadata": {},
     "output_type": "execute_result"
    }
   ],
   "source": [
    "# 3. Add a user_id column, which should be a sequence from 0 to n\n",
    "data.insert(0, 'user_id', range(0, len(data)))\n",
    "data.head()"
   ]
  },
  {
   "cell_type": "code",
   "execution_count": 6,
   "metadata": {},
   "outputs": [
    {
     "data": {
      "text/plain": [
       "0    B\n",
       "1    C\n",
       "2    C\n",
       "3    C\n",
       "4    B\n",
       "Name: grade, dtype: object"
      ]
     },
     "execution_count": 6,
     "metadata": {},
     "output_type": "execute_result"
    }
   ],
   "source": [
    "#4. Fill in the missing grade values with the most frequent value in that column\n",
    "\n",
    "# group and count the grades\n",
    "grades = data.groupby(['grade']).size()\n",
    "\n",
    "# get the index of the max value\n",
    "mcv = grades.idxmax()\n",
    "\n",
    "# fill nan with the most common value (mcv)\n",
    "data[\"grade\"] = data[\"grade\"].fillna(mcv)\n",
    "\n",
    "data[\"grade\"].head()"
   ]
  },
  {
   "cell_type": "code",
   "execution_count": 7,
   "metadata": {},
   "outputs": [
    {
     "data": {
      "text/plain": [
       "0    RENT\n",
       "1    RENT\n",
       "2    RENT\n",
       "3    RENT\n",
       "4    RENT\n",
       "Name: home_ownership, dtype: object"
      ]
     },
     "execution_count": 7,
     "metadata": {},
     "output_type": "execute_result"
    }
   ],
   "source": [
    "# 5. Replace missing home_ownership values with the median value for that column\n",
    "\n",
    "# group and count the home_ownership\n",
    "homeOwn = data.groupby(['home_ownership']).size()\n",
    "\n",
    "# get the median of the count and find the value\n",
    "medianCount = homeOwn.median()\n",
    "medianValue = 0\n",
    "for val in homeOwn.index:\n",
    "    if homeOwn[val]==medianCount:\n",
    "        medianValue = val\n",
    "\n",
    "# fill nan with the median value\n",
    "data[\"home_ownership\"] = data[\"home_ownership\"].fillna(medianValue)\n",
    "\n",
    "data[\"home_ownership\"].head()"
   ]
  },
  {
   "cell_type": "code",
   "execution_count": 8,
   "metadata": {},
   "outputs": [
    {
     "name": "stderr",
     "output_type": "stream",
     "text": [
      "/usr/local/lib/python3.5/dist-packages/sklearn/preprocessing/data.py:321: DeprecationWarning: Passing 1d arrays as data is deprecated in 0.17 and will raise ValueError in 0.19. Reshape your data either using X.reshape(-1, 1) if your data has a single feature or X.reshape(1, -1) if it contains a single sample.\n",
      "  warnings.warn(DEPRECATION_MSG_1D, DeprecationWarning)\n",
      "/usr/local/lib/python3.5/dist-packages/sklearn/preprocessing/data.py:356: DeprecationWarning: Passing 1d arrays as data is deprecated in 0.17 and will raise ValueError in 0.19. Reshape your data either using X.reshape(-1, 1) if your data has a single feature or X.reshape(1, -1) if it contains a single sample.\n",
      "  warnings.warn(DEPRECATION_MSG_1D, DeprecationWarning)\n"
     ]
    },
    {
     "data": {
      "text/plain": [
       "0    15.142857\n",
       "1     8.071429\n",
       "2     7.788571\n",
       "3    29.285714\n",
       "4     9.485714\n",
       "Name: funded_amnt, dtype: float64"
      ]
     },
     "execution_count": 8,
     "metadata": {},
     "output_type": "execute_result"
    }
   ],
   "source": [
    "# 6. Normalise the funded_amnt data so that it is scaled from 1-100\n",
    "\n",
    "from sklearn import preprocessing \n",
    "import numpy as np\n",
    "\n",
    "# fill nan with zeroes\n",
    "data[\"funded_amnt\"] = data[\"funded_amnt\"].fillna(0)\n",
    "\n",
    "# using MinMaxScaler convert the value to a range fro 1-100\n",
    "min_max_scaler = preprocessing.MinMaxScaler(feature_range=(1, 100))\n",
    "np_scaled = min_max_scaler.fit_transform(data[\"funded_amnt\"])\n",
    "data[\"funded_amnt\"] = np_scaled\n",
    "\n",
    "data[\"funded_amnt\"].head()"
   ]
  },
  {
   "cell_type": "code",
   "execution_count": 9,
   "metadata": {
    "collapsed": true
   },
   "outputs": [],
   "source": [
    "# 7. Optional, if you have time: Randomly permute the rows in the funded_amnt_inv column and interpolate the missing values (ideally using a linear\n",
    "# interpolation)\n",
    "\n",
    "# randomly permutate the funded_amnt_inv using numpy random permutation\n",
    "perm = data[\"funded_amnt_inv\"].reindex(np.random.permutation(data[\"funded_amnt_inv\"].index))\n",
    "\n",
    "# interpolate the \n",
    "perm = perm.interpolate(method=\"linear\")\n",
    "\n",
    "data[\"funded_amnt_inv\"]= perm\n"
   ]
  },
  {
   "cell_type": "code",
   "execution_count": 12,
   "metadata": {},
   "outputs": [],
   "source": [
    "# 8. Write the data out in a format that is consumable by JavaScript\n",
    "\n",
    "with open('html/temp.json', 'w') as f:\n",
    "    f.write(\"[\" + data.to_json(orient='records')[1:-1].replace('},{', '},{') + \"]\")"
   ]
  }
 ],
 "metadata": {
  "kernelspec": {
   "display_name": "Python 3",
   "language": "python",
   "name": "python3"
  },
  "language_info": {
   "codemirror_mode": {
    "name": "ipython",
    "version": 3
   },
   "file_extension": ".py",
   "mimetype": "text/x-python",
   "name": "python",
   "nbconvert_exporter": "python",
   "pygments_lexer": "ipython3",
   "version": "3.5.2"
  }
 },
 "nbformat": 4,
 "nbformat_minor": 2
}
