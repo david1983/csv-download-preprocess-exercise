{
 "cells": [
  {
   "cell_type": "markdown",
   "metadata": {
    "collapsed": true
   },
   "source": [
    "## Introduction\n",
    "Your task is to download, pre-process and display the free public Lending Club dataset which contains anonymised details of account activity from\n",
    "LendingClub loan activity. You should use python pandas for the pre-processing and JavaScript to display the results.\n",
    "\n",
    "Data Lending Club Loan Data file: https://www.lendingclub.com/info/download-data.action\n",
    "Pre-process\n",
    "You should apply the following transforms to the data:\n",
    "    \n",
    "1. Read the csv into a Python pandas dataframe\n",
    "2. Select just the grade, home_ownership, funded_amnt and funded_amnt_inv fields\n",
    "3. Add a user_id column, which should be a sequence from 0 to n\n",
    "4. Fill in the missing grade values with the most frequent value in that column\n",
    "5. Replace missing home_ownership values with the median value for that column\n",
    "6. Normalise the funded_amnt data so that it is scaled from 1-100\n",
    "7. Optional, if you have time: Randomly permute the rows in the funded_amnt_inv column and interpolate the missing values (ideally using a linear\n",
    "interpolation)\n",
    "8. Write the data out in a format that is consumable by JavaScript\n"
   ]
  },
  {
   "cell_type": "code",
   "execution_count": 4,
   "metadata": {},
   "outputs": [
    {
     "data": {
      "text/html": [
       "<div>\n",
       "<style>\n",
       "    .dataframe thead tr:only-child th {\n",
       "        text-align: right;\n",
       "    }\n",
       "\n",
       "    .dataframe thead th {\n",
       "        text-align: left;\n",
       "    }\n",
       "\n",
       "    .dataframe tbody tr th {\n",
       "        vertical-align: top;\n",
       "    }\n",
       "</style>\n",
       "<table border=\"1\" class=\"dataframe\">\n",
       "  <thead>\n",
       "    <tr style=\"text-align: right;\">\n",
       "      <th></th>\n",
       "      <th>funded_amnt</th>\n",
       "      <th>funded_amnt_inv</th>\n",
       "      <th>grade</th>\n",
       "      <th>home_ownership</th>\n",
       "    </tr>\n",
       "  </thead>\n",
       "  <tbody>\n",
       "    <tr>\n",
       "      <th>0</th>\n",
       "      <td>5000.0</td>\n",
       "      <td>4975.0</td>\n",
       "      <td>B</td>\n",
       "      <td>RENT</td>\n",
       "    </tr>\n",
       "    <tr>\n",
       "      <th>1</th>\n",
       "      <td>2500.0</td>\n",
       "      <td>2500.0</td>\n",
       "      <td>C</td>\n",
       "      <td>RENT</td>\n",
       "    </tr>\n",
       "    <tr>\n",
       "      <th>2</th>\n",
       "      <td>2400.0</td>\n",
       "      <td>2400.0</td>\n",
       "      <td>C</td>\n",
       "      <td>RENT</td>\n",
       "    </tr>\n",
       "    <tr>\n",
       "      <th>3</th>\n",
       "      <td>10000.0</td>\n",
       "      <td>10000.0</td>\n",
       "      <td>C</td>\n",
       "      <td>RENT</td>\n",
       "    </tr>\n",
       "    <tr>\n",
       "      <th>4</th>\n",
       "      <td>3000.0</td>\n",
       "      <td>3000.0</td>\n",
       "      <td>B</td>\n",
       "      <td>RENT</td>\n",
       "    </tr>\n",
       "  </tbody>\n",
       "</table>\n",
       "</div>"
      ],
      "text/plain": [
       "   funded_amnt  funded_amnt_inv grade home_ownership\n",
       "0       5000.0           4975.0     B           RENT\n",
       "1       2500.0           2500.0     C           RENT\n",
       "2       2400.0           2400.0     C           RENT\n",
       "3      10000.0          10000.0     C           RENT\n",
       "4       3000.0           3000.0     B           RENT"
      ]
     },
     "execution_count": 4,
     "metadata": {},
     "output_type": "execute_result"
    }
   ],
   "source": [
    "import pandas as pd\n",
    "\n",
    "# 1. Read the csv into a Python pandas dataframe\n",
    "# 2. Select just the grade, home_ownership, funded_amnt and funded_amnt_inv fields\n",
    "\n",
    "data = pd.read_csv(\"LoanStats3a.csv\", skiprows=[0],usecols=[\"grade\", \"home_ownership\", \"funded_amnt\", \"funded_amnt_inv\"])\n",
    "data.head()\n"
   ]
  },
  {
   "cell_type": "code",
   "execution_count": 5,
   "metadata": {},
   "outputs": [
    {
     "data": {
      "text/html": [
       "<div>\n",
       "<style>\n",
       "    .dataframe thead tr:only-child th {\n",
       "        text-align: right;\n",
       "    }\n",
       "\n",
       "    .dataframe thead th {\n",
       "        text-align: left;\n",
       "    }\n",
       "\n",
       "    .dataframe tbody tr th {\n",
       "        vertical-align: top;\n",
       "    }\n",
       "</style>\n",
       "<table border=\"1\" class=\"dataframe\">\n",
       "  <thead>\n",
       "    <tr style=\"text-align: right;\">\n",
       "      <th></th>\n",
       "      <th>user_id</th>\n",
       "      <th>funded_amnt</th>\n",
       "      <th>funded_amnt_inv</th>\n",
       "      <th>grade</th>\n",
       "      <th>home_ownership</th>\n",
       "    </tr>\n",
       "  </thead>\n",
       "  <tbody>\n",
       "    <tr>\n",
       "      <th>0</th>\n",
       "      <td>0</td>\n",
       "      <td>5000.0</td>\n",
       "      <td>4975.0</td>\n",
       "      <td>B</td>\n",
       "      <td>RENT</td>\n",
       "    </tr>\n",
       "    <tr>\n",
       "      <th>1</th>\n",
       "      <td>1</td>\n",
       "      <td>2500.0</td>\n",
       "      <td>2500.0</td>\n",
       "      <td>C</td>\n",
       "      <td>RENT</td>\n",
       "    </tr>\n",
       "    <tr>\n",
       "      <th>2</th>\n",
       "      <td>2</td>\n",
       "      <td>2400.0</td>\n",
       "      <td>2400.0</td>\n",
       "      <td>C</td>\n",
       "      <td>RENT</td>\n",
       "    </tr>\n",
       "    <tr>\n",
       "      <th>3</th>\n",
       "      <td>3</td>\n",
       "      <td>10000.0</td>\n",
       "      <td>10000.0</td>\n",
       "      <td>C</td>\n",
       "      <td>RENT</td>\n",
       "    </tr>\n",
       "    <tr>\n",
       "      <th>4</th>\n",
       "      <td>4</td>\n",
       "      <td>3000.0</td>\n",
       "      <td>3000.0</td>\n",
       "      <td>B</td>\n",
       "      <td>RENT</td>\n",
       "    </tr>\n",
       "  </tbody>\n",
       "</table>\n",
       "</div>"
      ],
      "text/plain": [
       "   user_id  funded_amnt  funded_amnt_inv grade home_ownership\n",
       "0        0       5000.0           4975.0     B           RENT\n",
       "1        1       2500.0           2500.0     C           RENT\n",
       "2        2       2400.0           2400.0     C           RENT\n",
       "3        3      10000.0          10000.0     C           RENT\n",
       "4        4       3000.0           3000.0     B           RENT"
      ]
     },
     "execution_count": 5,
     "metadata": {},
     "output_type": "execute_result"
    }
   ],
   "source": [
    "# 3. Add a user_id column, which should be a sequence from 0 to n\n",
    "data.insert(0, 'user_id', range(0, len(data)))\n",
    "data.head()"
   ]
  },
  {
   "cell_type": "code",
   "execution_count": 6,
   "metadata": {},
   "outputs": [
    {
     "data": {
      "text/plain": [
       "0    B\n",
       "1    C\n",
       "2    C\n",
       "3    C\n",
       "4    B\n",
       "Name: grade, dtype: object"
      ]
     },
     "execution_count": 6,
     "metadata": {},
     "output_type": "execute_result"
    }
   ],
   "source": [
    "#4. Fill in the missing grade values with the most frequent value in that column\n",
    "\n",
    "# group and count the grades\n",
    "grades = data.groupby(['grade']).size()\n",
    "\n",
    "# get the index of the max value\n",
    "mcv = grades.idxmax()\n",
    "\n",
    "# fill nan with the most common value (mcv)\n",
    "data[\"grade\"] = data[\"grade\"].fillna(mcv)\n",
    "\n",
    "data[\"grade\"].head()"
   ]
  },
  {
   "cell_type": "code",
   "execution_count": 39,
   "metadata": {},
   "outputs": [
    {
     "name": "stdout",
     "output_type": "stream",
     "text": [
      "home_ownership\n",
      "MORTGAGE    18959\n",
      "NONE            8\n",
      "OTHER         136\n",
      "OWN          3254\n",
      "RENT        20181\n",
      "dtype: int64\n"
     ]
    },
    {
     "data": {
      "text/plain": [
       "0    RENT\n",
       "1    RENT\n",
       "2    RENT\n",
       "3    RENT\n",
       "4    RENT\n",
       "Name: home_ownership, dtype: object"
      ]
     },
     "execution_count": 39,
     "metadata": {},
     "output_type": "execute_result"
    }
   ],
   "source": [
    "# 5. Replace missing home_ownership values with the median value for that column\n",
    "\n",
    "# group and count the home_ownership\n",
    "homeOwn = data.groupby(['home_ownership']).size()\n",
    "\n",
    "print(homeOwn)\n",
    "# get the median of the count and find the value\n",
    "medianCount = homeOwn.median()\n",
    "medianValue = 0\n",
    "for val in homeOwn.index:\n",
    "    if homeOwn[val]==medianCount:\n",
    "        medianValue = val\n",
    "\n",
    "# fill nan with the median value\n",
    "data[\"home_ownership\"] = data[\"home_ownership\"].fillna(medianValue)\n",
    "\n",
    "data[\"home_ownership\"].head()"
   ]
  },
  {
   "cell_type": "code",
   "execution_count": 85,
   "metadata": {},
   "outputs": [
    {
     "name": "stdout",
     "output_type": "stream",
     "text": [
      "0        15.142857\n",
      "1         8.071429\n",
      "2         7.788571\n",
      "3        29.285714\n",
      "4         9.485714\n",
      "5        15.142857\n",
      "6        20.800000\n",
      "7         9.485714\n",
      "8        16.840000\n",
      "9        16.203571\n",
      "10       19.385714\n",
      "11       34.942857\n",
      "12       26.457143\n",
      "13        9.485714\n",
      "14       29.285714\n",
      "15        3.828571\n",
      "16       29.285714\n",
      "17       11.182857\n",
      "18       17.971429\n",
      "19       27.022857\n",
      "20       58.278571\n",
      "21       60.400000\n",
      "22       29.285714\n",
      "23       29.285714\n",
      "24       17.971429\n",
      "25       43.428571\n",
      "26       43.428571\n",
      "27       15.142857\n",
      "28       12.314286\n",
      "29       25.042857\n",
      "           ...    \n",
      "42508    17.971429\n",
      "42509    16.132857\n",
      "42510     6.374286\n",
      "42511    29.285714\n",
      "42512     6.657143\n",
      "42513    17.971429\n",
      "42514    13.445714\n",
      "42515     4.394286\n",
      "42516    15.142857\n",
      "42517     4.960000\n",
      "42518     3.828571\n",
      "42519    15.142857\n",
      "42520     8.071429\n",
      "42521     9.485714\n",
      "42522     8.354286\n",
      "42523     3.828571\n",
      "42524     4.606429\n",
      "42525    19.244286\n",
      "42526    30.700000\n",
      "42527     9.485714\n",
      "42528     9.485714\n",
      "42529     6.657143\n",
      "42530    19.385714\n",
      "42531    10.900000\n",
      "42532     3.828571\n",
      "42533     8.142143\n",
      "42534    19.385714\n",
      "42535    15.142857\n",
      "42536     1.000000\n",
      "42537     1.000000\n",
      "Name: funded_amnt, Length: 42538, dtype: float64\n",
      "min: 1.0, max: 100.0\n"
     ]
    },
    {
     "name": "stderr",
     "output_type": "stream",
     "text": [
      "/usr/local/lib/python3.5/dist-packages/sklearn/preprocessing/data.py:321: DeprecationWarning: Passing 1d arrays as data is deprecated in 0.17 and will raise ValueError in 0.19. Reshape your data either using X.reshape(-1, 1) if your data has a single feature or X.reshape(1, -1) if it contains a single sample.\n",
      "  warnings.warn(DEPRECATION_MSG_1D, DeprecationWarning)\n",
      "/usr/local/lib/python3.5/dist-packages/sklearn/preprocessing/data.py:356: DeprecationWarning: Passing 1d arrays as data is deprecated in 0.17 and will raise ValueError in 0.19. Reshape your data either using X.reshape(-1, 1) if your data has a single feature or X.reshape(1, -1) if it contains a single sample.\n",
      "  warnings.warn(DEPRECATION_MSG_1D, DeprecationWarning)\n"
     ]
    }
   ],
   "source": [
    "# 6. Normalise the funded_amnt data so that it is scaled from 1-100\n",
    "\n",
    "from sklearn import preprocessing \n",
    "import numpy as np\n",
    "\n",
    "# fill nan with zeroes\n",
    "data[\"funded_amnt\"] = data[\"funded_amnt\"].fillna(0)\n",
    "\n",
    "# using MinMaxScaler convert the value to a range fro 1-100\n",
    "min_max_scaler = preprocessing.MinMaxScaler(feature_range=(1, 100))\n",
    "np_scaled = min_max_scaler.fit_transform(data[\"funded_amnt\"])\n",
    "data[\"funded_amnt\"] = np_scaled\n",
    "\n",
    "# test if range is correct\n",
    "print(\"min: \" + str(np_scaled.min()) + \", max: \" + str(np_scaled.max()))\n",
    "\n"
   ]
  },
  {
   "cell_type": "code",
   "execution_count": 86,
   "metadata": {},
   "outputs": [
    {
     "name": "stdout",
     "output_type": "stream",
     "text": [
      "33717    4322.878093\n",
      "11731    4361.440618\n",
      "2794     5077.726086\n",
      "18173    4690.086957\n",
      "17934    5644.666448\n",
      "4304     4634.889808\n",
      "17393    8355.235550\n",
      "34955    4968.466182\n",
      "36813    4921.548468\n",
      "14765    5378.629490\n",
      "Name: funded_amnt_inv, dtype: float64\n",
      "0    4322.878093\n",
      "1    4361.440618\n",
      "2    5077.726086\n",
      "3    4690.086957\n",
      "4    5644.666448\n",
      "5    4634.889808\n",
      "6    8355.235550\n",
      "7    4968.466182\n",
      "8    4921.548468\n",
      "9    5378.629490\n",
      "Name: funded_amnt_inv, dtype: float64\n"
     ]
    }
   ],
   "source": [
    "# 7. Optional, if you have time: Randomly permute the rows in the funded_amnt_inv column and interpolate the missing values (ideally using a linear\n",
    "# interpolation)\n",
    "\n",
    "subset = data[\"funded_amnt_inv\"]\n",
    "# randomly permutate the funded_amnt_inv using numpy random permutation\n",
    "perm = subset.reindex(np.random.permutation(subset.index))\n",
    "\n",
    "# interpolate the permutated rows\n",
    "interpolated = perm.interpolate(method=\"linear\")\n",
    "data[\"funded_amnt_inv\"] = np.array(interpolated)\n",
    "\n",
    "print(interpolated[0:10])\n",
    "print(data[\"funded_amnt_inv\"][0:10])"
   ]
  },
  {
   "cell_type": "code",
   "execution_count": 12,
   "metadata": {},
   "outputs": [],
   "source": [
    "# 8. Write the data out in a format that is consumable by JavaScript\n",
    "\n",
    "with open('html/temp.json', 'w') as f:\n",
    "    f.write(\"[\" + data.to_json(orient='records')[1:-1].replace('},{', '},{') + \"]\")"
   ]
  }
 ],
 "metadata": {
  "kernelspec": {
   "display_name": "Python 3",
   "language": "python",
   "name": "python3"
  },
  "language_info": {
   "codemirror_mode": {
    "name": "ipython",
    "version": 3
   },
   "file_extension": ".py",
   "mimetype": "text/x-python",
   "name": "python",
   "nbconvert_exporter": "python",
   "pygments_lexer": "ipython3",
   "version": "3.5.2"
  }
 },
 "nbformat": 4,
 "nbformat_minor": 2
}
